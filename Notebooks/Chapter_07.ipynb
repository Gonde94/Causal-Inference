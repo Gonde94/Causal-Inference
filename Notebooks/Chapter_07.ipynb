{
 "cells": [
  {
   "cell_type": "markdown",
   "id": "244e2037",
   "metadata": {},
   "source": [
    "### The Four-Step Process of Causal Inference"
   ]
  }
 ],
 "metadata": {
  "language_info": {
   "name": "python"
  }
 },
 "nbformat": 4,
 "nbformat_minor": 5
}
