{
 "cells": [
  {
   "cell_type": "markdown",
   "id": "273b6963",
   "metadata": {},
   "source": [
    "### Forks, Chains, and Immoralities\n",
    "\n",
    "<u>Graphs, distributions, and how to map between them</u>"
   ]
  }
 ],
 "metadata": {
  "language_info": {
   "name": "python"
  }
 },
 "nbformat": 4,
 "nbformat_minor": 5
}
