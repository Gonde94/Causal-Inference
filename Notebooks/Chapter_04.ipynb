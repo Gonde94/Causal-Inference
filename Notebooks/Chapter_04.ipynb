{
 "cells": [
  {
   "cell_type": "markdown",
   "id": "9a72458d",
   "metadata": {},
   "source": [
    "### Graphical Models\n",
    "\n",
    "Graphs are more than just a visualisation tool from a causal point of view. They can be defined in multiple ways. You can think of them as discrete mathematical structures, abstract representations of real-world entities and relations between them, or computational data structures. What these perspectives have in common are the basic building blocks of graphs: <b>nodes</b> (vertices) and <b>edges</b> (links) that connect the nodes."
   ]
  }
 ],
 "metadata": {
  "language_info": {
   "name": "python"
  }
 },
 "nbformat": 4,
 "nbformat_minor": 5
}
