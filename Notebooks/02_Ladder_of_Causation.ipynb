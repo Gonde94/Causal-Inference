{
 "cells": [
  {
   "cell_type": "markdown",
   "metadata": {},
   "source": [
    "### Ladder of Causation\n",
    "\n",
    "A metaphor for understanding the distinct levels of relationships between variables. The ladder has 3 rungs and each rung is related to different activity and offers answers to different types of causal questions. Each rung also comes with a distinct set of mathematical tools."
   ]
  },
  {
   "cell_type": "markdown",
   "metadata": {},
   "source": [
    "1. <u><b>Association</b></u>: The activity related to this level is <u>observing</u>. Using association, we can answer questions about how seeing one thing changes our belief about another thing. E.g. how observing a successful product launch changes our belief that the company's stock price will go up.\n",
    "2. <u><b>Intervention</b></u>: We can intervene on one variable to check how it influences some other variable. E.g. if I go to bed earlier, will I have more energy the following morning. \n",
    "3. <u><b>Counterfactual reasoning</b></u>: Imagining/understanding. What would have happened had we done something differently. E.g. would I have made it to the office on time, had I taken the train rather than the car?"
   ]
  },
  {
   "cell_type": "markdown",
   "metadata": {},
   "source": [
    "#### Associations\n",
    "\n",
    "We can quantify associational relationships using <u>conditional probability</u>. E.g. what is the probability that a person will buy book A, given they've bought book B: P(book A|book B).\n",
    "\n",
    "This question does not give us any information on the causal relationship between both events. We don't know if buying book B caused the customer to buy book A, vice versa, or if there is some other (unobserved) event that caused both. We only get information about non-causal association between these events. \n",
    "\n",
    "<b><u>Structural Causal Models (SCMs)</u></b> are a simple tool to encode causal relationships between variables. We use them as our <u>data-generating process</u>. After generating the data, we will pretend to forget what our SCM was in order to mimic a frequent real-world scenario where the true data-generating process is unknown and the only thing we have is observational data. Code an example:\n",
    "\n",
    "U<sub>0</sub> ~ U(0,1) (a continuous random variable uniformly distributed between 0 and 1)  \n",
    "U<sub>1</sub> ~ N(0,1) (a normally distributed random variable with a mean value of 0 and a standard deviation of 1)  \n",
    "A := 1<sub>{U<sub>0</sub>>0.61}</sub> (a binary variable)  \n",
    "B := 1<sub>{(A + 0.5 * U<sub>1</sub>)>0.2}</sub> (a binary variable)"
   ]
  },
  {
   "cell_type": "code",
   "execution_count": 1,
   "metadata": {},
   "outputs": [],
   "source": [
    "import numpy\n",
    "from scipy import stats"
   ]
  },
  {
   "cell_type": "code",
   "execution_count": 2,
   "metadata": {},
   "outputs": [],
   "source": [
    "class BookSCM:\n",
    "    def __init__(self, random_seed=None):\n",
    "        self.random_seed = random_seed\n",
    "        self.u_0 = stats.uniform()\n",
    "        self.u_1 = stats.norm()\n",
    "\n",
    "    def sample(self, sample_size=100):\n",
    "        \"Samples from the SCM\"\n",
    "        u_0 = self.u_0.rvs(sample_size)\n",
    "        u_1 = self.u_1.rvs(sample_size)\n",
    "        a = u_0 > 0.61\n",
    "        b = (a + 0.5 * u_1) > 0.2\n",
    "        \n",
    "        return a, b"
   ]
  },
  {
   "cell_type": "code",
   "execution_count": 3,
   "metadata": {},
   "outputs": [
    {
     "name": "stdout",
     "output_type": "stream",
     "text": [
      "Book a shape: (100,)\n",
      "Book b shape: (100,)\n"
     ]
    }
   ],
   "source": [
    "# Instantiate SCM and set random seed\n",
    "scm = BookSCM(random_seed=42)\n",
    "\n",
    "# Sample 100 samples from it\n",
    "buy_book_a, buy_book_b = scm.sample(100)\n",
    "\n",
    "# Check whether shapes are as expected\n",
    "print(f\"Book a shape: {buy_book_a.shape}\")\n",
    "print(f\"Book b shape: {buy_book_b.shape}\")"
   ]
  },
  {
   "cell_type": "code",
   "execution_count": 4,
   "metadata": {},
   "outputs": [
    {
     "name": "stdout",
     "output_type": "stream",
     "text": [
      "Probability of buying book A given B: 0.567\n"
     ]
    }
   ],
   "source": [
    "# Compute the conditional probability P(book A|book B)\n",
    "proba_book_a_given_book_b = buy_book_a[buy_book_b].sum() / buy_book_a[buy_book_b].shape[0]\n",
    "\n",
    "print(f\"Probability of buying book A given B: {proba_book_a_given_book_b:0.3f}\")"
   ]
  }
 ],
 "metadata": {
  "kernelspec": {
   "display_name": "causal_inference",
   "language": "python",
   "name": "python3"
  },
  "language_info": {
   "codemirror_mode": {
    "name": "ipython",
    "version": 3
   },
   "file_extension": ".py",
   "mimetype": "text/x-python",
   "name": "python",
   "nbconvert_exporter": "python",
   "pygments_lexer": "ipython3",
   "version": "3.12.10"
  }
 },
 "nbformat": 4,
 "nbformat_minor": 2
}
